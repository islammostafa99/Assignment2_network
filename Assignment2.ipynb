{
  "nbformat": 4,
  "nbformat_minor": 0,
  "metadata": {
    "colab": {
      "name": "Assignment2.ipynb",
      "provenance": [],
      "include_colab_link": true
    },
    "kernelspec": {
      "name": "python3",
      "display_name": "Python 3"
    },
    "language_info": {
      "name": "python"
    }
  },
  "cells": [
    {
      "cell_type": "markdown",
      "metadata": {
        "id": "view-in-github",
        "colab_type": "text"
      },
      "source": [
        "<a href=\"https://colab.research.google.com/github/islammostafa99/Assignment2_network/blob/main/Assignment2.ipynb\" target=\"_parent\"><img src=\"https://colab.research.google.com/assets/colab-badge.svg\" alt=\"Open In Colab\"/></a>"
      ]
    },
    {
      "cell_type": "code",
      "metadata": {
        "id": "gZ02OemDbxTp"
      },
      "source": [
        "file1 = open('tcp-example.tr', 'r')\n",
        "Lines = file1.readlines()"
      ],
      "execution_count": null,
      "outputs": []
    },
    {
      "cell_type": "code",
      "metadata": {
        "id": "uoty6JZ4clti"
      },
      "source": [
        "counter=0   # counter of items in queue\n",
        "\n",
        "file2 = open('text.txt', 'w')              # write all the enqueues and dequeues the size of the queue over the time\n",
        "file3 = open('text_deque.txt', 'w')        # write the dequeues\n",
        "file7 = open('text_enqueue.txt', 'w')      # write the enqueues\n",
        "\n",
        "for line in Lines:\n",
        "\n",
        "  array=[]    #for splitting string by ' '\n",
        "  array2=[]\n",
        "  array4=[]\n",
        "  string=''   #the final string which is written in the file\n",
        "  string2=''\n",
        "  string4=''\n",
        "\n",
        "  if(line.startswith('+') & (line.find('/NodeList/0/') != -1)):\n",
        "    counter=counter+1\n",
        "\n",
        "    array4=line.split(' ')\n",
        "    string4=array4[1] + '\\n'\n",
        "    file7.write(string4)\n",
        "\n",
        "    array=line.split(' ')\n",
        "    string=array[1] + ' ' +str(counter)+'\\n'\n",
        "    file2.write(string)\n",
        "\n",
        "  elif(line.startswith('-') & (line.find('/NodeList/0/') != -1) ):\n",
        "    counter=counter-1\n",
        "    \n",
        "    array2=line.split(' ')\n",
        "    string2=array2[1] + '\\n'\n",
        "    file3.write(string2)\n",
        "\n",
        "    array=line.split(' ')\n",
        "    string=array[1] + ' ' +str(counter)+'\\n'\n",
        "    file2.write(string)\n",
        "    \n",
        "file2.close()\n",
        "file3.close()\n",
        "file7.close()"
      ],
      "execution_count": null,
      "outputs": []
    },
    {
      "cell_type": "code",
      "metadata": {
        "id": "D7ZLeRRqyS51"
      },
      "source": [
        "file4 = open('text_enqueue.txt', 'r')\n",
        "Lines2 = file4.readlines()"
      ],
      "execution_count": null,
      "outputs": []
    },
    {
      "cell_type": "code",
      "metadata": {
        "id": "SF_r1kpnyo4F"
      },
      "source": [
        "file5 = open('text_deque.txt', 'r')\n",
        "Lines3 = file5.readlines()"
      ],
      "execution_count": null,
      "outputs": []
    },
    {
      "cell_type": "code",
      "metadata": {
        "id": "FV8yQu3HysYF"
      },
      "source": [
        "file6 = open('weights.txt', 'w')"
      ],
      "execution_count": null,
      "outputs": []
    },
    {
      "cell_type": "code",
      "metadata": {
        "id": "ikJSZ98bywA6"
      },
      "source": [
        "for line1,line2 in zip(Lines3,Lines2):\n",
        "  #array3=[]\n",
        "  weight=0\n",
        "  string3=''\n",
        "  #array3=line2.split(' ')\n",
        "  weight= float(line1) - float(line2)\n",
        "  string3= str(float(line2)) + ' ' + str(weight) + '\\n'\n",
        "  file6.write(string3)\n",
        "\n",
        "file6.close()"
      ],
      "execution_count": null,
      "outputs": []
    }
  ]
}